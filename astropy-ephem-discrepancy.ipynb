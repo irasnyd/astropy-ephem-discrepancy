{
 "cells": [
  {
   "cell_type": "code",
   "execution_count": 1,
   "metadata": {},
   "outputs": [],
   "source": [
    "import fitsio\n",
    "\n",
    "import numpy as np\n",
    "\n",
    "import astropy.units as u\n",
    "\n",
    "from astropy.coordinates import EarthLocation\n",
    "from astropy.coordinates import SkyCoord\n",
    "from astropy.coordinates import AltAz\n",
    "from astropy.coordinates import ICRS\n",
    "from astropy.time import Time\n",
    "\n",
    "# example usage:\n",
    "#altaz_to_skycoord(alt=90.0 * u.deg, az=0.0 * u.deg, time=time, location=mylocation)\n",
    "def altaz_to_skycoord(alt, az, time, location):\n",
    "    loc = AltAz(alt=alt, az=az, obstime=time, location=location)\n",
    "    coord = loc.transform_to(ICRS)\n",
    "    return coord\n",
    "\n",
    "def fits_read(filename):\n",
    "    data, hdr = fitsio.read(filename, header=True)\n",
    "    return data, hdr\n",
    "\n",
    "def fitsheader_to_location(hdr):\n",
    "    return EarthLocation(\n",
    "        lat=hdr['LATITUDE'] * u.deg,\n",
    "        lon=hdr['LONGITUD'] * u.deg,\n",
    "        height=hdr['HEIGHT'] * u.m,\n",
    "    )\n",
    "\n",
    "def fitsheader_to_time(hdr):\n",
    "    return Time(hdr['DATE-OBS'], format='fits', scale='utc')"
   ]
  },
  {
   "cell_type": "code",
   "execution_count": 2,
   "metadata": {},
   "outputs": [],
   "source": [
    "filename = './initial_wcs-ogg-1597473421-night.fits.fz'"
   ]
  },
  {
   "cell_type": "code",
   "execution_count": 3,
   "metadata": {},
   "outputs": [
    {
     "name": "stdout",
     "output_type": "stream",
     "text": [
      "LOCATION: (-5466087.7314879, -2404265.70005887, 2242156.4309251) m\n",
      "OBSTIME 2020-08-15T06:37:01.487\n"
     ]
    }
   ],
   "source": [
    "data, hdr = fits_read(filename)\n",
    "location = fitsheader_to_location(hdr)\n",
    "print('LOCATION:', location)\n",
    "obstime = fitsheader_to_time(hdr)\n",
    "print('OBSTIME', obstime)"
   ]
  },
  {
   "cell_type": "code",
   "execution_count": 4,
   "metadata": {},
   "outputs": [
    {
     "name": "stdout",
     "output_type": "stream",
     "text": [
      "ASTROPY Jupiter: <SkyCoord (GCRS: obstime=2020-08-15T06:37:01.487, obsgeoloc=(-321734.71862663, -5962571.55176577, 2242788.74778963) m, obsgeovel=(434.79661793, -23.78376417, -0.85763875) m / s): (ra, dec, distance) in (deg, deg, km)\n",
      "    (289.99315705, -22.55750854, 6.39575814e+08)>\n",
      "ASTROPY Jupiter ICRS (RA/DEC): <SkyCoord (ICRS): (ra, dec, distance) in (deg, deg, km)\n",
      "    (296.72047035, -21.49478298, 7.6832872e+08)>\n",
      "ASTROPY Jupiter AltAz: <SkyCoord (AltAz: obstime=2020-08-15T06:37:01.487, location=(-5466087.7314879, -2404265.70005887, 2242156.4309251) m, pressure=0.0 hPa, temperature=0.0 deg_C, relative_humidity=0.0, obswl=1.0 micron): (az, alt, distance) in (deg, deg, m)\n",
      "    (151.1064587, 41.22187261, 6.39575814e+11)>\n"
     ]
    }
   ],
   "source": [
    "from astropy.coordinates import solar_system_ephemeris\n",
    "from astropy.coordinates import get_body\n",
    "from astropy.coordinates import ICRS\n",
    "from astropy.coordinates import AltAz\n",
    "from astropy.coordinates import Angle\n",
    "\n",
    "# https://docs.astropy.org/en/stable/coordinates/transforming.html\n",
    "# https://docs.astropy.org/en/stable/coordinates/solarsystem.html\n",
    "\n",
    "with solar_system_ephemeris.set('jpl'):\n",
    "    astropy_jupiter = get_body('jupiter', time=obstime, location=location)\n",
    "    print('ASTROPY Jupiter:', astropy_jupiter)\n",
    "    astropy_jupiter_icrs = astropy_jupiter.transform_to(ICRS)\n",
    "    print('ASTROPY Jupiter ICRS (RA/DEC):', astropy_jupiter_icrs)\n",
    "    astropy_jupiter_altaz = astropy_jupiter.transform_to(AltAz(location=location, obstime=obstime))\n",
    "    print('ASTROPY Jupiter AltAz:', astropy_jupiter_altaz)"
   ]
  },
  {
   "cell_type": "code",
   "execution_count": 5,
   "metadata": {},
   "outputs": [
    {
     "name": "stdout",
     "output_type": "stream",
     "text": [
      "EPHEM Jupiter AltAz: <AltAz Coordinate (obstime=2020-08-15T06:37:01.487, location=(-5466087.7314879, -2404265.70005887, 2242156.4309251) m, pressure=0.0 hPa, temperature=0.0 deg_C, relative_humidity=0.0, obswl=1.0 micron): (az, alt) in deg\n",
      "    (151.10725, 41.24033333)>\n",
      "EPHEM Jupiter ICRS (RA/DEC): <ICRS Coordinate: (ra, dec) in deg\n",
      "    (289.97781629, -22.54229852)>\n"
     ]
    }
   ],
   "source": [
    "from dateutil.parser import parse\n",
    "import ephem\n",
    "\n",
    "observer = ephem.Observer()\n",
    "observer.lon = np.radians(hdr['LONGITUD'])\n",
    "observer.lat = np.radians(hdr['LATITUDE'])\n",
    "observer.elev = hdr['HEIGHT']\n",
    "observer.date = parse(hdr['DATE-OBS'])\n",
    "\n",
    "ephem_jupiter = ephem.Jupiter()\n",
    "ephem_jupiter.compute(observer)\n",
    "\n",
    "ephem_jupiter_alt, ephem_jupiter_az = Angle(f'{ephem_jupiter.alt} deg'), Angle(f'{ephem_jupiter.az} deg')\n",
    "ephem_jupiter_altaz = AltAz(alt=ephem_jupiter_alt, az=ephem_jupiter_az, location=location, obstime=obstime)\n",
    "print('EPHEM Jupiter AltAz:', ephem_jupiter_altaz)\n",
    "ephem_jupiter_icrs = ephem_jupiter_altaz.transform_to(ICRS)\n",
    "print('EPHEM Jupiter ICRS (RA/DEC):', ephem_jupiter_icrs)"
   ]
  },
  {
   "cell_type": "code",
   "execution_count": 6,
   "metadata": {},
   "outputs": [],
   "source": [
    "from astropy.wcs import WCS\n",
    "\n",
    "mywcs = WCS(hdr)"
   ]
  },
  {
   "cell_type": "code",
   "execution_count": 7,
   "metadata": {},
   "outputs": [
    {
     "name": "stdout",
     "output_type": "stream",
     "text": [
      "Ephem AltAz: <AltAz Coordinate (obstime=2020-08-15T06:37:01.487, location=(-5466087.7314879, -2404265.70005887, 2242156.4309251) m, pressure=0.0 hPa, temperature=0.0 deg_C, relative_humidity=0.0, obswl=1.0 micron): (az, alt) in deg\n",
      "    (151.10725, 41.24033333)>\n",
      "Ephem RA/DEC: <ICRS Coordinate: (ra, dec) in deg\n",
      "    (289.97781629, -22.54229852)>\n",
      "Ephem Calculates Jupiter at x=233.16781868023395 y=90.11092846066475\n"
     ]
    }
   ],
   "source": [
    "# To reiterate:\n",
    "# Both astropy and ephem get the AltAz correct\n",
    "print(f'Ephem AltAz: {ephem_jupiter_altaz}')\n",
    "# And ephem converts to RA/DEC correctly too... (verified by *OPENING THE IMAGE* in DS9)\n",
    "# and locating Jupiter. Which is centered at approx x=233 y=91\n",
    "print(f'Ephem RA/DEC: {ephem_jupiter_icrs}')\n",
    "ephem_x, ephem_y = mywcs.all_world2pix(ephem_jupiter_icrs.ra.value, ephem_jupiter_icrs.dec.value, 1)\n",
    "print(f'Ephem Calculates Jupiter at x={ephem_x} y={ephem_y}')"
   ]
  },
  {
   "cell_type": "code",
   "execution_count": 8,
   "metadata": {},
   "outputs": [
    {
     "name": "stdout",
     "output_type": "stream",
     "text": [
      "Astropy AltAz: <SkyCoord (AltAz: obstime=2020-08-15T06:37:01.487, location=(-5466087.7314879, -2404265.70005887, 2242156.4309251) m, pressure=0.0 hPa, temperature=0.0 deg_C, relative_humidity=0.0, obswl=1.0 micron): (az, alt, distance) in (deg, deg, m)\n",
      "    (151.1064587, 41.22187261, 6.39575814e+11)>\n",
      "Astropy RA/DEC: <SkyCoord (ICRS): (ra, dec, distance) in (deg, deg, km)\n",
      "    (296.72047035, -21.49478298, 7.6832872e+08)>\n",
      "Astropy Calculates Jupiter at x=209.97078396766184 y=95.11110266992372\n"
     ]
    }
   ],
   "source": [
    "# To reiterate:\n",
    "# Both astropy and ephem get the AltAz correct\n",
    "print(f'Astropy AltAz: {astropy_jupiter_altaz}')\n",
    "# But astropy really messes up the conversion to RA/DEC :-(\n",
    "# 22px in X is a LONG WAYS OFF. Plotting this with lots of data shows that\n",
    "# astropy calculates the plane of the solar system correctly, but the planets\n",
    "# are offset from where they should be. To the \"left\" on this image.\n",
    "print(f'Astropy RA/DEC: {astropy_jupiter_icrs}')\n",
    "astropy_x, astropy_y = mywcs.all_world2pix(astropy_jupiter_icrs.ra.value, astropy_jupiter_icrs.dec.value, 1)\n",
    "print(f'Astropy Calculates Jupiter at x={astropy_x} y={astropy_y}')"
   ]
  },
  {
   "cell_type": "code",
   "execution_count": null,
   "metadata": {},
   "outputs": [],
   "source": []
  }
 ],
 "metadata": {
  "kernelspec": {
   "display_name": "Python 3",
   "language": "python",
   "name": "python3"
  },
  "language_info": {
   "codemirror_mode": {
    "name": "ipython",
    "version": 3
   },
   "file_extension": ".py",
   "mimetype": "text/x-python",
   "name": "python",
   "nbconvert_exporter": "python",
   "pygments_lexer": "ipython3",
   "version": "3.8.5"
  }
 },
 "nbformat": 4,
 "nbformat_minor": 4
}
